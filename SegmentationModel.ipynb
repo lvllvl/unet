{
  "nbformat": 4,
  "nbformat_minor": 0,
  "metadata": {
    "colab": {
      "name": "SegmentationModel.ipynb",
      "provenance": [],
      "collapsed_sections": [
        "pFTx1ACYmNi5"
      ],
      "authorship_tag": "ABX9TyPiOzTq8tFpfo5KaWEgDWsb",
      "include_colab_link": true
    },
    "kernelspec": {
      "name": "python3",
      "display_name": "Python 3"
    },
    "accelerator": "GPU"
  },
  "cells": [
    {
      "cell_type": "markdown",
      "metadata": {
        "id": "view-in-github",
        "colab_type": "text"
      },
      "source": [
        "<a href=\"https://colab.research.google.com/github/lvllvl/unet/blob/master/SegmentationModel.ipynb\" target=\"_parent\"><img src=\"https://colab.research.google.com/assets/colab-badge.svg\" alt=\"Open In Colab\"/></a>"
      ]
    },
    {
      "cell_type": "markdown",
      "metadata": {
        "id": "58UCK5ZVnuwn",
        "colab_type": "text"
      },
      "source": [
        "\n",
        "# Overview"
      ]
    },
    {
      "cell_type": "markdown",
      "metadata": {
        "id": "pFTx1ACYmNi5",
        "colab_type": "text"
      },
      "source": [
        "## Notes"
      ]
    },
    {
      "cell_type": "markdown",
      "metadata": {
        "id": "fE5YrFh_tvqK",
        "colab_type": "text"
      },
      "source": [
        "* imgs/  -- The png image files\n",
        "* masks/ -- PNG segmentation masks (update these!)\n",
        "* segs/  -- The outputs in probability from our * * \n",
        "internal segnet (unreleased, too big)\n",
        "\n",
        "\n",
        "\n",
        "###### Categories \n",
        " * 1 - #402020 - road (all parts, anywhere nobody would look at you funny for driving)\n",
        " * 2 - #ff0000 - lane markings (don't include non lane markings like turn arrows and crosswalks)\n",
        " * 3 - #808060 - undrivable\n",
        " * 4 - #00ff66 - movable (vehicles and people/animals)\n",
        " * 5 - #cc00ff - my car (and anything inside it, including wires, mounts, etc. No reflections)\n",
        "\n"
      ]
    },
    {
      "cell_type": "markdown",
      "metadata": {
        "id": "7GXS0VBGnukc",
        "colab_type": "text"
      },
      "source": [
        "## Imports"
      ]
    },
    {
      "cell_type": "code",
      "metadata": {
        "id": "2xJ54484gQEf",
        "colab_type": "code",
        "colab": {}
      },
      "source": [
        "from pathlib import Path\n",
        "import pathlib\n",
        "from PIL import  Image\n",
        "import cv2\n",
        "import numpy as np\n",
        "from keras.utils import to_categorical\n",
        "from scipy import misc\n",
        "import matplotlib.pyplot as plt\n",
        "from numpy import  linalg"
      ],
      "execution_count": 1,
      "outputs": []
    },
    {
      "cell_type": "markdown",
      "metadata": {
        "id": "Z0SXoe8NsDWO",
        "colab_type": "text"
      },
      "source": [
        "#### Import U-Net repo"
      ]
    },
    {
      "cell_type": "code",
      "metadata": {
        "id": "3Ybe7KSzgNxF",
        "colab_type": "code",
        "colab": {}
      },
      "source": [
        "# ! git clone https://github.com/lvllvl/unet.git"
      ],
      "execution_count": 5,
      "outputs": []
    },
    {
      "cell_type": "markdown",
      "metadata": {
        "id": "i1MMDxAzsAGR",
        "colab_type": "text"
      },
      "source": [
        "#### import comma10k Dataset "
      ]
    },
    {
      "cell_type": "code",
      "metadata": {
        "id": "6pPSTOzlkikQ",
        "colab_type": "code",
        "colab": {
          "base_uri": "https://localhost:8080/",
          "height": 156
        },
        "outputId": "348b2c02-2892-4898-a75c-18c9508338da"
      },
      "source": [
        "! git clone https://github.com/commaai/comma10k.git"
      ],
      "execution_count": 2,
      "outputs": [
        {
          "output_type": "stream",
          "text": [
            "Cloning into 'comma10k'...\n",
            "remote: Enumerating objects: 32, done.\u001b[K\n",
            "remote: Counting objects: 100% (32/32), done.\u001b[K\n",
            "remote: Compressing objects: 100% (29/29), done.\u001b[K\n",
            "remote: Total 27544 (delta 5), reused 27 (delta 3), pack-reused 27512\u001b[K\n",
            "Receiving objects: 100% (27544/27544), 3.75 GiB | 16.18 MiB/s, done.\n",
            "Resolving deltas: 100% (4307/4307), done.\n",
            "Checking out files: 100% (11203/11203), done.\n"
          ],
          "name": "stdout"
        }
      ]
    },
    {
      "cell_type": "markdown",
      "metadata": {
        "id": "S5vihNpcsJaW",
        "colab_type": "text"
      },
      "source": [
        "#### Set up the folders, paths "
      ]
    },
    {
      "cell_type": "code",
      "metadata": {
        "id": "m-f4N_65gbH9",
        "colab_type": "code",
        "colab": {}
      },
      "source": [
        "path = Path.cwd()\n",
        "\n",
        "# Comma10k data\n",
        "comma10kFolder = path/'comma10k'\n",
        "masksFolder = comma10kFolder/'masks' # Images with the masks ( 5574 images )\n",
        "imgsFolder = comma10kFolder/'imgs' # Images with no segmentation\n",
        "\n",
        "# Unet Path \n",
        "# you don't need this \n",
        "# unetFolder = path/'unet'\n",
        "\n",
        "\n",
        "# Create directories for Train / validation datasets \n",
        "validFiles = comma10kFolder/'valid'\n",
        "validFiles.mkdir( mode=511, parents= True, exist_ok = False )\n",
        "\n",
        "trainFiles = comma10kFolder/'train'\n",
        "trainFiles.mkdir( mode=511, parents=True, exist_ok=False )\n",
        "\n",
        "# Training folder --> mask folder --> masks.png\n",
        "# Training folder --> image folder --> image.png\n",
        "trainMask = trainFiles/'mask'\n",
        "trainMask.mkdir( mode=511, parents=True, exist_ok = False )\n",
        "\n",
        "trainImage = trainFiles/'image'\n",
        "trainImage.mkdir( mode=511, parents=True, exist_ok = False )\n",
        "\n",
        "\n",
        "# Valid folder --> mask folder --> masks.png\n",
        "# Valid folder --> image folder --> image.png\n",
        "validMask = validFiles/'mask'\n",
        "validMask.mkdir( mode=511, parents=True, exist_ok = False )\n",
        "\n",
        "validImage = validFiles/'image'\n",
        "validImage.mkdir( mode=511, parents=True, exist_ok = False )"
      ],
      "execution_count": 3,
      "outputs": []
    },
    {
      "cell_type": "code",
      "metadata": {
        "id": "Z4wcfmCcaw9_",
        "colab_type": "code",
        "colab": {
          "base_uri": "https://localhost:8080/",
          "height": 304
        },
        "outputId": "07234465-462a-4d11-84ec-7706aebfa862"
      },
      "source": [
        "img = 0\n",
        "for i in imgsFolder.iterdir():\n",
        "  name = i.as_uri()[ 7: ]\n",
        "  print( name )\n",
        "  img = cv2.imread( name )\n",
        "  break \n",
        "img.shape\n",
        "# (874, 1164, 3)\n",
        "# (874, 1164, 3)\n",
        "plt.imshow( img )"
      ],
      "execution_count": 4,
      "outputs": [
        {
          "output_type": "stream",
          "text": [
            "/content/comma10k/imgs/0391_ef53f1ffea65e93c_2018-07-31--03-52-21_13_151.png\n"
          ],
          "name": "stdout"
        },
        {
          "output_type": "execute_result",
          "data": {
            "text/plain": [
              "<matplotlib.image.AxesImage at 0x7f4ad79f2160>"
            ]
          },
          "metadata": {
            "tags": []
          },
          "execution_count": 4
        },
        {
          "output_type": "display_data",
          "data": {
            "image/png": "[encoded data removed]",
            "text/plain": [
              "<Figure size 432x288 with 1 Axes>"
            ]
          },
          "metadata": {
            "tags": [],
            "needs_background": "light"
          }
        }
      ]
    },
    {
      "cell_type": "code",
      "metadata": {
        "id": "aUpcM0n49j3D",
        "colab_type": "code",
        "colab": {
          "base_uri": "https://localhost:8080/",
          "height": 321
        },
        "outputId": "432727da-3293-4a37-e780-dfcd5e5b586f"
      },
      "source": [
        "mask = 0 \n",
        "for i in masksFolder.iterdir():\n",
        "  name = i.as_uri()[ 7: ] \n",
        "  print( name ) \n",
        "  mask = cv2.imread( name ) \n",
        "  break \n",
        "\n",
        "print( 'mask.shape: ' , mask.shape ) \n",
        "plt.imshow( mask ) "
      ],
      "execution_count": 5,
      "outputs": [
        {
          "output_type": "stream",
          "text": [
            "/content/comma10k/masks/0391_ef53f1ffea65e93c_2018-07-31--03-52-21_13_151.png\n",
            "mask.shape:  (874, 1164, 3)\n"
          ],
          "name": "stdout"
        },
        {
          "output_type": "execute_result",
          "data": {
            "text/plain": [
              "<matplotlib.image.AxesImage at 0x7f4ad75520b8>"
            ]
          },
          "metadata": {
            "tags": []
          },
          "execution_count": 5
        },
        {
          "output_type": "display_data",
          "data": {
            "image/png": "[encoded data removed]",
            "text/plain": [
              "<Figure size 432x288 with 1 Axes>"
            ]
          },
          "metadata": {
            "tags": [],
            "needs_background": "light"
          }
        }
      ]
    },
    {
      "cell_type": "markdown",
      "metadata": {
        "id": "qe8gZ8mzn9TD",
        "colab_type": "text"
      },
      "source": [
        "## Data Preparation"
      ]
    },
    {
      "cell_type": "markdown",
      "metadata": {
        "id": "7nopF6jtoufj",
        "colab_type": "text"
      },
      "source": [
        "#### Rename files"
      ]
    },
    {
      "cell_type": "code",
      "metadata": {
        "id": "P-Aul9z9mc7s",
        "colab_type": "code",
        "colab": {
          "base_uri": "https://localhost:8080/",
          "height": 208
        },
        "outputId": "5e03c365-2930-4b0d-bbc4-4e548310096f"
      },
      "source": [
        "fileCount = 0\n",
        "prefix = 'mask_'\n",
        "suffix = '.png'\n",
        "\n",
        "for i in masksFolder.iterdir():\n",
        "\n",
        "  file_path = i.as_uri()[ 7:31 ]\n",
        "  \n",
        "  name = i.as_uri()[ 31 : 35 ] \n",
        "\n",
        "  newName = file_path + prefix + name + suffix\n",
        "\n",
        "  i.rename( newName ) # rename the file\n",
        "\n",
        "  # how to evaluate a model in practice \n",
        "  # projects --> github profile, blog, working website \n",
        "  # get good at one specific thing --> e.g., computer vision \n",
        "  \n",
        "  fileCount += 1 \n",
        "\n",
        "  if fileCount % 500 == 0:\n",
        "    print( 'Still processing...file count = ', fileCount )"
      ],
      "execution_count": 7,
      "outputs": [
        {
          "output_type": "stream",
          "text": [
            "Still processing...file count =  500\n",
            "Still processing...file count =  1000\n",
            "Still processing...file count =  1500\n",
            "Still processing...file count =  2000\n",
            "Still processing...file count =  2500\n",
            "Still processing...file count =  3000\n",
            "Still processing...file count =  3500\n",
            "Still processing...file count =  4000\n",
            "Still processing...file count =  4500\n",
            "Still processing...file count =  5000\n",
            "Still processing...file count =  5500\n"
          ],
          "name": "stdout"
        }
      ]
    },
    {
      "cell_type": "code",
      "metadata": {
        "id": "c_PymrffmnFF",
        "colab_type": "code",
        "colab": {
          "base_uri": "https://localhost:8080/",
          "height": 208
        },
        "outputId": "2624e108-bf37-4e70-9312-4aa4eccf2633"
      },
      "source": [
        "fileCount = 0\n",
        "prefix = 'image_'\n",
        "suffix = '.png'\n",
        "\n",
        "\n",
        "for i in imgsFolder.iterdir():\n",
        "  \n",
        "  file_path = i.as_uri()[ 7:30 ]\n",
        "  \n",
        "  name = i.as_uri()[ 30 : 34 ] \n",
        "\n",
        "  newName = file_path + prefix + name + suffix\n",
        "\n",
        "  i.rename( newName ) # rename the file\n",
        "  fileCount += 1 \n",
        "\n",
        "  if fileCount % 500 == 0:\n",
        "    print( 'Still processing...file count = ', fileCount )"
      ],
      "execution_count": 9,
      "outputs": [
        {
          "output_type": "stream",
          "text": [
            "Still processing...file count =  500\n",
            "Still processing...file count =  1000\n",
            "Still processing...file count =  1500\n",
            "Still processing...file count =  2000\n",
            "Still processing...file count =  2500\n",
            "Still processing...file count =  3000\n",
            "Still processing...file count =  3500\n",
            "Still processing...file count =  4000\n",
            "Still processing...file count =  4500\n",
            "Still processing...file count =  5000\n",
            "Still processing...file count =  5500\n"
          ],
          "name": "stdout"
        }
      ]
    },
    {
      "cell_type": "code",
      "metadata": {
        "id": "ljw8UxC96JHj",
        "colab_type": "code",
        "colab": {
          "base_uri": "https://localhost:8080/",
          "height": 329
        },
        "outputId": "37d418d0-0b46-46c3-c977-04385f3ef89f"
      },
      "source": [
        "for i in comma10kFolder.iterdir():\n",
        "  print( i )"
      ],
      "execution_count": 11,
      "outputs": [
        {
          "output_type": "stream",
          "text": [
            "/content/comma10k/sample.gif\n",
            "/content/comma10k/.github\n",
            "/content/comma10k/README.md\n",
            "/content/comma10k/files_trainable\n",
            "/content/comma10k/tools\n",
            "/content/comma10k/valid\n",
            "/content/comma10k/requirements.txt\n",
            "/content/comma10k/masks\n",
            "/content/comma10k/.git\n",
            "/content/comma10k/viewer.py\n",
            "/content/comma10k/scale\n",
            "/content/comma10k/imgs\n",
            "/content/comma10k/pencil\n",
            "/content/comma10k/.gitignore\n",
            "/content/comma10k/train\n",
            "/content/comma10k/stat.py\n",
            "/content/comma10k/LICENSE\n",
            "/content/comma10k/sample.jpg\n"
          ],
          "name": "stdout"
        }
      ]
    },
    {
      "cell_type": "code",
      "metadata": {
        "id": "WZUJhEocEHkG",
        "colab_type": "code",
        "colab": {
          "base_uri": "https://localhost:8080/",
          "height": 34
        },
        "outputId": "3839c362-7976-49a9-f981-cae24bab216f"
      },
      "source": [
        "mask = 0 \n",
        "img = 0 \n",
        "\n",
        "for i in masksFolder.iterdir():\n",
        "  mask += 1\n",
        "for i in imgsFolder.iterdir():\n",
        "  img += 1\n",
        "\n",
        "print( mask, img )"
      ],
      "execution_count": 13,
      "outputs": [
        {
          "output_type": "stream",
          "text": [
            "1 1\n"
          ],
          "name": "stdout"
        }
      ]
    },
    {
      "cell_type": "markdown",
      "metadata": {
        "id": "VHtcNBuP2COY",
        "colab_type": "text"
      },
      "source": [
        "#### Split files into train / valid folders"
      ]
    },
    {
      "cell_type": "code",
      "metadata": {
        "id": "wileExm16tkh",
        "colab_type": "code",
        "colab": {
          "base_uri": "https://localhost:8080/",
          "height": 52
        },
        "outputId": "c2c4bf7c-68e3-41e9-c345-e6acb23194fb"
      },
      "source": [
        "# Masked Files -- Change location \n",
        "\n",
        "fileNames = []\n",
        "count = 0\n",
        "\n",
        "for i in masksFolder.iterdir():\n",
        "\n",
        "  fn = i.stem + i.suffix # file name\n",
        "  # print( 'fn = ', fn ) \n",
        "\n",
        "  if count < 4459:  # add to Train folder \n",
        "    fileNum = i.stem[ 5: ]\n",
        "    fileNames.append( fileNum ) # append FileNum to fileNames array \n",
        "    \n",
        "    # Now change the location \n",
        "    i.rename( Path( trainMask, fn ))\n",
        "\n",
        "  else: # add to Valid folder\n",
        "    i.rename( Path( validFiles, fn ))\n",
        "\n",
        "\n",
        "  count += 1\n",
        "\n",
        "print( 'len of fileNames: ', len( fileNames ))\n",
        "c= 0\n",
        "for i in trainFiles.iterdir():\n",
        "  c += 1\n",
        "print( c )"
      ],
      "execution_count": 15,
      "outputs": [
        {
          "output_type": "stream",
          "text": [
            "len of fileNames:  0\n",
            "2\n"
          ],
          "name": "stdout"
        }
      ]
    },
    {
      "cell_type": "code",
      "metadata": {
        "id": "SuazNEMCBnEY",
        "colab_type": "code",
        "colab": {
          "base_uri": "https://localhost:8080/",
          "height": 34
        },
        "outputId": "7c2b9668-8bb6-49d0-cd77-e65b37ec102d"
      },
      "source": [
        "# Now move the images from the imgsFolder \n",
        "for i in imgsFolder.iterdir():\n",
        "\n",
        "  fn = i.stem + i.suffix # individual file name \n",
        "  \n",
        "  fileNum = i.stem[ 6: ]\n",
        "\n",
        "  if fileNum in fileNames: # change location - train folder if fileNum is in array fileNames\n",
        "    i.rename( Path( trainImage, fn ))\n",
        "\n",
        "  else: # change location  - valid folder \n",
        "    i.rename( Path( validFiles, fn ))\n",
        "\n",
        "c = 0\n",
        "for i in trainFiles.iterdir():\n",
        "  c += 1 \n",
        "print( c ) "
      ],
      "execution_count": 17,
      "outputs": [
        {
          "output_type": "stream",
          "text": [
            "2\n"
          ],
          "name": "stdout"
        }
      ]
    },
    {
      "cell_type": "markdown",
      "metadata": {
        "id": "Iz8Eg-ltjBAb",
        "colab_type": "text"
      },
      "source": [
        "## Data.py"
      ]
    },
    {
      "cell_type": "markdown",
      "metadata": {
        "id": "DUuOjm9c1G81",
        "colab_type": "text"
      },
      "source": [
        "##### Imports, etc"
      ]
    },
    {
      "cell_type": "code",
      "metadata": {
        "id": "yGD1vz_v09qG",
        "colab_type": "code",
        "colab": {}
      },
      "source": [
        "from __future__ import print_function\n",
        "from keras.preprocessing.image import ImageDataGenerator\n",
        "import numpy as np \n",
        "import os\n",
        "import glob\n",
        "import skimage.io as io\n",
        "import skimage.transform as trans\n",
        "\n",
        "# CommaAI Labels --> 5 classes\n",
        "road = [ 64,\t32,\t32 ] \n",
        "lane_markings = [ 255, 0, 0 ] \n",
        "undriveable = [ 128, 128, 96 ] \n",
        "movable = [ 0, 255, 102 ] # vehicles, peoples, animals \n",
        "my_vehicle = [ 204,\t0, 255 ]\n",
        "\n",
        "# What does this do?\n",
        "COLOR_DICT = np.array( [ road, lane_markings, undriveable, movable, my_vehicle ])"
      ],
      "execution_count": 18,
      "outputs": []
    },
    {
      "cell_type": "markdown",
      "metadata": {
        "id": "CZYwo7IA1Kgc",
        "colab_type": "text"
      },
      "source": [
        "##### Function: adjustData"
      ]
    },
    {
      "cell_type": "code",
      "metadata": {
        "id": "VcoFiA1Mylag",
        "colab_type": "code",
        "colab": {}
      },
      "source": [
        "# Goal - replace adjustData --> create a one-hot-vector --> \n",
        "def adjustData( img, mask, flag_multi_class, num_classes ):\n",
        "\n",
        "  if ( flag_multi_class ): # If classes > 2\n",
        "    # img = img / 255\n",
        "    img = tf.cast( img, tf.float32 ) / 255.0 # TODO --> is this the right choice here?\n",
        "    input_image = tf.cast( input_image, tf.float32 ) / 255.0 \n",
        "\n",
        "    mask = mask[ :, :, 0 ] # Select 1 channel from mask\n",
        "    # mask = mask / 255\n",
        "    mask = tf.cast( mask, tf.float32 ) / 255.0\n",
        "    mask_one_hot = to_categorical( mask, num_classes = num_classes )\n",
        "\n",
        "    \n",
        "  return ( img, mask_one_hot ) \n",
        "\n",
        "\n",
        "####################################################################################################\n",
        "####################################################################################################\n",
        "####################################################################################################\n",
        "####################################################################################################\n",
        "\n",
        "def trainGenerator( batch_size, train_path, image_folder, mask_folder, aug_dict, image_color_mode = \"rgb\",\n",
        "                    mask_color_mode = \"rgb\", image_save_prefix  = \"image\", mask_save_prefix  = \"mask\",\n",
        "                    flag_multi_class = True, num_class = 5, save_to_dir = None, target_size = ( 256,256 ), seed = 1 ):\n",
        "    '''\n",
        "    can generate image and mask at the same time\n",
        "    use the same seed for image_datagen and mask_datagen to ensure the transformation for image and mask is the same\n",
        "    if you want to visualize the results of generator, set save_to_dir = \"your path\"\n",
        "    '''\n",
        "    # Create Image Data Generators \n",
        "    image_datagen = ImageDataGenerator( **aug_dict )\n",
        "    mask_datagen = ImageDataGenerator( **aug_dict )\n",
        "\n",
        "    ImageDataGenerator.flow_from_directory( )\n",
        "    image_generator = image_datagen.flow_from_directory(\n",
        "        train_path,\n",
        "        target_size = target_size,\n",
        "        color_mode = image_color_mode,\n",
        "        # classes = [ image_folder ],\n",
        "        class_mode = None,\n",
        "        # class_mode = 'categorical',\n",
        "        batch_size = batch_size,\n",
        "        seed = seed,\n",
        "        save_to_dir = save_to_dir,\n",
        "        save_prefix  = image_save_prefix\n",
        "        )\n",
        "    \n",
        "    # Returns:\n",
        "\n",
        "    # A `DirectoryIterator` yielding tuples of `(x, y)`  \n",
        "    #     where `x` is a numpy array containing a batch  \n",
        "    #     of images with shape `(batch_size, *target_size, channels)`  \n",
        "    #     and `y` is a numpy array of corresponding labels.\n",
        "    \n",
        "    mask_generator = mask_datagen.flow_from_directory(\n",
        "        train_path,\n",
        "        target_size = target_size,\n",
        "        color_mode = mask_color_mode,\n",
        "        # classes = [ mask_folder ],\n",
        "        class_mode = None,\n",
        "        # class_mode = 'categorical',\n",
        "        batch_size = batch_size,\n",
        "        seed = seed,\n",
        "        save_to_dir = save_to_dir,\n",
        "        save_prefix  = mask_save_prefix\n",
        "        )\n",
        "    \n",
        "    train_generator = zip( image_generator, mask_generator )\n",
        "\n",
        "    for img, mask in train_generator:\n",
        "\n",
        "        img, mask = adjustData( img, mask, flag_multi_class, num_class )\n",
        "        # yield ( img, mask )\n",
        "        yield img, mask\n",
        "\n",
        "####################################################################################################\n",
        "####################################################################################################\n",
        "####################################################################################################\n",
        "####################################################################################################\n",
        "\n",
        "def testGenerator( test_path, num_image = 30, target_size = ( 256,256 ), flag_multi_class = True, as_gray = False ):\n",
        "  '''\n",
        "      num_image -->> ??? What does this do ? total number of images in your test dataset????\n",
        "      target_size = ( ?, ? ) what should this actually be?\n",
        "  '''\n",
        "  for i in range( num_image ): # do the following for all images in test dataset\n",
        "\n",
        "      img = io.imread( os.path.join( test_path,\"%d.png\"%i ), as_gray = as_gray )\n",
        "\n",
        "      img = img / 255\n",
        "\n",
        "      img = trans.resize( img,target_size )\n",
        "\n",
        "      img = np.reshape( img, img.shape+(1,) ) if ( not flag_multi_class ) else img\n",
        "\n",
        "      img = np.reshape( img, (1,) + img.shape )\n",
        "\n",
        "      yield img\n",
        "####################################################################################################\n",
        "####################################################################################################\n",
        "####################################################################################################\n",
        "####################################################################################################\n",
        "def geneTrainNpy( image_path, mask_path, flag_multi_class = True, num_class = 5,\n",
        "                 image_prefix = \"image\", mask_prefix = \"mask\", image_as_gray = False, mask_as_gray = False ):\n",
        "  '''\n",
        "  image_path -> path to image\n",
        "  mask_path -> path to image\n",
        "\n",
        "  flag_multi_class = T/F --> Are there multiple classes or not?\n",
        "  num_class = # His is set to 2, because it's black & white \n",
        "\n",
        "  image_prefix --> how is filename labeled?\n",
        "  mask_prefix --> how is filename labeled?\n",
        "\n",
        "  image_as_gray --> T / F --> is the image gray or not\n",
        "  mask_as_gray --> T / F --> is MASK gray or not  \n",
        "\n",
        "  '''\n",
        "    # Access image path\n",
        "  image_name_arr = glob.glob( os.path.join( image_path,\"%s*.png\"%image_prefix ) )\n",
        "\n",
        "  image_arr = []\n",
        "\n",
        "  mask_arr = []\n",
        "\n",
        "  # Loop ... What is index, item? datatype ???\n",
        "  for index,item in enumerate( image_name_arr ):\n",
        "\n",
        "      # Open the image, set as grayscale or NOT\n",
        "      img = io.imread( item, as_gray = image_as_gray )\n",
        "\n",
        "      # Reshape... only if it's image_as_gray == TRUE \n",
        "      img = np.reshape( img,img.shape + (1,) ) if image_as_gray else img\n",
        "\n",
        "      # open mask image ... wtf does replace do?\n",
        "      mask = io.imread( item.replace( image_path,mask_path ).replace( image_prefix,mask_prefix ),as_gray = mask_as_gray )\n",
        "\n",
        "      # Reshape... only if it's mask_as_gray == TRUE \n",
        "      mask = np.reshape( mask,mask.shape + (1,) ) if mask_as_gray else mask\n",
        "\n",
        "      # Call adjustData( ) function \n",
        "      img,mask = adjustData( img, mask, flag_multi_class, num_class )\n",
        "\n",
        "      # append the image, mask to each array         \n",
        "      image_arr.append( img )\n",
        "      mask_arr.append( mask )\n",
        "\n",
        "  image_arr = np.array( image_arr )\n",
        "  mask_arr = np.array( mask_arr )\n",
        "\n",
        "  return image_arr, mask_arr\n",
        "####################################################################################################\n",
        "####################################################################################################\n",
        "####################################################################################################\n",
        "####################################################################################################\n",
        "def labelVisualize( num_class, color_dict, img ):\n",
        "\n",
        "    img = img[ :,:,0 ] if len( img.shape ) == 3 else img\n",
        "\n",
        "    img_out = np.zeros( img.shape + (3,) )\n",
        "\n",
        "    for i in range( num_class ):\n",
        "        img_out[ img == i,: ] = color_dict[ i ]\n",
        "\n",
        "    return img_out / 255\n",
        "####################################################################################################\n",
        "####################################################################################################\n",
        "####################################################################################################\n",
        "####################################################################################################\n",
        "\n",
        "def saveResult( save_path, npyfile, flag_multi_class = False, num_class = 2 ):\n",
        "  '''\n",
        "  save_path -->\n",
        "  npyfile --> \n",
        "  flag_multi_class --> bool \n",
        "  num_class --> \n",
        "\n",
        "  '''\n",
        "\n",
        "  for i,item in enumerate( npyfile ):\n",
        "\n",
        "      img = labelVisualize( num_class, COLOR_DICT, item ) if flag_multi_class else item[ :,:,0 ]\n",
        "\n",
        "      io.imsave( os.path.join( save_path,\"%d_predict.png\"%i ),img )\n",
        "\n",
        "####################################################################################################\n",
        "####################################################################################################\n",
        "####################################################################################################\n",
        "####################################################################################################"
      ],
      "execution_count": 19,
      "outputs": []
    },
    {
      "cell_type": "markdown",
      "metadata": {
        "id": "cq76izoIuHg6",
        "colab_type": "text"
      },
      "source": [
        "## Create the Model"
      ]
    },
    {
      "cell_type": "markdown",
      "metadata": {
        "id": "dBSyyRwnjasV",
        "colab_type": "text"
      },
      "source": [
        "### Model.py"
      ]
    },
    {
      "cell_type": "code",
      "metadata": {
        "id": "tYVEV3mPjm9C",
        "colab_type": "code",
        "colab": {}
      },
      "source": [
        "import numpy as np \n",
        "import os\n",
        "import skimage.io as io\n",
        "import skimage.transform as trans\n",
        "import numpy as np\n",
        "from keras.models import *\n",
        "from keras.layers import *\n",
        "from keras.optimizers import *\n",
        "from keras.callbacks import ModelCheckpoint, LearningRateScheduler\n",
        "from keras import backend as keras\n",
        "\n",
        "# (874, 1164, 3)\n",
        "def unet( pretrained_weights = None, input_size = [ 256, 256, 3 ] ):\n",
        "    \n",
        "    # downsampling begins here \n",
        "    inputs = Input( input_size )\n",
        "    conv1 = Conv2D( 64, 3, activation = 'relu', padding = 'same', kernel_initializer = 'he_normal' )( inputs )\n",
        "    conv1 = Conv2D( 64, 3, activation = 'relu', padding = 'same', kernel_initializer = 'he_normal' )( conv1 )\n",
        "    pool1 = MaxPooling2D( pool_size=( 2, 2 ))( conv1 )\n",
        "\n",
        "    conv2 = Conv2D( 128, 3, activation = 'relu', padding = 'same', kernel_initializer = 'he_normal' )( pool1 )\n",
        "    conv2 = Conv2D( 128, 3, activation = 'relu', padding = 'same', kernel_initializer = 'he_normal')( conv2 )\n",
        "    pool2 = MaxPooling2D( pool_size=( 2, 2 ))( conv2 )\n",
        "\n",
        "    conv3 = Conv2D( 256, 3, activation = 'relu', padding = 'same', kernel_initializer = 'he_normal')( pool2 )\n",
        "    conv3 = Conv2D( 256, 3, activation = 'relu', padding = 'same', kernel_initializer = 'he_normal')( conv3 )\n",
        "    pool3 = MaxPooling2D( pool_size=(2, 2))(conv3)\n",
        "\n",
        "    conv4 = Conv2D( 512, 3, activation = 'relu', padding = 'same', kernel_initializer = 'he_normal')( pool3 )\n",
        "    conv4 = Conv2D( 512, 3, activation = 'relu', padding = 'same', kernel_initializer = 'he_normal')( conv4 )\n",
        "    drop4 = Dropout( 0.5 )( conv4 )\n",
        "    pool4 = MaxPooling2D( pool_size=( 2, 2 ))( drop4 )\n",
        "\n",
        "    conv5 = Conv2D(1024, 3, activation = 'relu', padding = 'same', kernel_initializer = 'he_normal')(pool4)\n",
        "    conv5 = Conv2D(1024, 3, activation = 'relu', padding = 'same', kernel_initializer = 'he_normal')(conv5)\n",
        "    drop5 = Dropout(0.5)(conv5)\n",
        "\n",
        "    ## upsampling begins here \n",
        "    up6 = Conv2D(512, 2, activation = 'relu', padding = 'same', kernel_initializer = 'he_normal')(UpSampling2D(size = (2,2))(drop5))\n",
        "    merge6 = concatenate([drop4,up6], axis = 3)\n",
        "    conv6 = Conv2D(512, 3, activation = 'relu', padding = 'same', kernel_initializer = 'he_normal')(merge6)\n",
        "    conv6 = Conv2D(512, 3, activation = 'relu', padding = 'same', kernel_initializer = 'he_normal')(conv6)\n",
        "\n",
        "    up7 = Conv2D(256, 2, activation = 'relu', padding = 'same', kernel_initializer = 'he_normal')(UpSampling2D(size = (2,2))(conv6))\n",
        "    merge7 = concatenate([conv3,up7], axis = 3)\n",
        "    conv7 = Conv2D(256, 3, activation = 'relu', padding = 'same', kernel_initializer = 'he_normal')(merge7)\n",
        "    conv7 = Conv2D(256, 3, activation = 'relu', padding = 'same', kernel_initializer = 'he_normal')(conv7)\n",
        "\n",
        "    up8 = Conv2D(128, 2, activation = 'relu', padding = 'same', kernel_initializer = 'he_normal')(UpSampling2D(size = (2,2))(conv7))\n",
        "    merge8 = concatenate([conv2,up8], axis = 3)\n",
        "    conv8 = Conv2D(128, 3, activation = 'relu', padding = 'same', kernel_initializer = 'he_normal')(merge8)\n",
        "    conv8 = Conv2D(128, 3, activation = 'relu', padding = 'same', kernel_initializer = 'he_normal')(conv8)\n",
        "\n",
        "    up9 = Conv2D(64, 2, activation = 'relu', padding = 'same', kernel_initializer = 'he_normal')(UpSampling2D(size = (2,2))(conv8))\n",
        "    merge9 = concatenate([conv1,up9], axis = 3)\n",
        "    conv9 = Conv2D(64, 3, activation = 'relu', padding = 'same', kernel_initializer = 'he_normal')(merge9)\n",
        "    conv9 = Conv2D(64, 3, activation = 'relu', padding = 'same', kernel_initializer = 'he_normal')(conv9)\n",
        "    conv9 = Conv2D(2, 3, activation = 'relu', padding = 'same', kernel_initializer = 'he_normal')(conv9)\n",
        "    conv10 = Conv2D(1, 1, activation = 'sigmoid')(conv9) \n",
        "    \n",
        "\n",
        "    model = Model( inputs, conv10 )\n",
        "    # 'categorical_crossentropy'\n",
        "    # model.compile(optimizer = Adam(lr = 1e-4), loss = 'binary_crossentropy', metrics = ['accuracy'])\n",
        "    model.compile(optimizer = Adam(lr = 1e-4), loss = 'categorical_crossentropy', metrics = ['accuracy'])\n",
        "    \n",
        "    # Give a summary of the model, layers, etc. \n",
        "    # model.summary()\n",
        "\n",
        "    if(pretrained_weights):\n",
        "    \tmodel.load_weights(pretrained_weights)\n",
        "\n",
        "    return model"
      ],
      "execution_count": 20,
      "outputs": []
    },
    {
      "cell_type": "markdown",
      "metadata": {
        "id": "UsQvGgxcuTTp",
        "colab_type": "text"
      },
      "source": [
        "## Execute the model "
      ]
    },
    {
      "cell_type": "markdown",
      "metadata": {
        "id": "TTTVkUDVjMHE",
        "colab_type": "text"
      },
      "source": [
        "### Main.py"
      ]
    },
    {
      "cell_type": "code",
      "metadata": {
        "id": "3DL5cJ2GjGL0",
        "colab_type": "code",
        "colab": {
          "base_uri": "https://localhost:8080/",
          "height": 398
        },
        "outputId": "f7736a2d-9752-4462-d618-87b6be26d704"
      },
      "source": [
        "#os.environ[\"CUDA_VISIBLE_DEVICES\"] = \"0\"\n",
        "\n",
        "\n",
        "trainDir = '/content/comma10k/train'\n",
        "validDir = '/content/comma10k/valid' \n",
        "\n",
        "# Changes to your images \n",
        "data_gen_args = dict( rotation_range=0.0,\n",
        "                      width_shift_range=0.0,\n",
        "                      height_shift_range=0.0,\n",
        "                      shear_range=0.0,\n",
        "                      zoom_range=0.0,\n",
        "                      horizontal_flip = False,\n",
        "                      fill_mode = 'nearest')\n",
        "\n",
        "# Create a training generator \n",
        "myGene = trainGenerator( 32, # batch size \n",
        "                        trainDir, \n",
        "                        'image', \n",
        "                        'mask', \n",
        "                        data_gen_args, \n",
        "                        save_to_dir = None )\n",
        "\n",
        "\n",
        "model = unet()\n",
        "\n",
        "\n",
        "# Save your model at this checkpoint \n",
        "# MCP( filepath, \n",
        "#      monitor = the value being monitored, e.g., 'loss' \n",
        "#      verbose = 0: shows you nothing, 1: shows animated progress bar, 2: shows # of epochs 1/10  \n",
        "#      save_best_only= If true, then model weights are saved)\n",
        "\n",
        "model_checkpoint = ModelCheckpoint('content/comma10k/unet_CommaModel.hdf5', \n",
        "                                   monitor = 'loss',\n",
        "                                   verbose = 2, \n",
        "                                   save_best_only = True)\n",
        "\n",
        "\n",
        "model.fit_generator( myGene,\n",
        "                    # steps_per_epoch = 300,\n",
        "                    epochs=1,\n",
        "                    callbacks=[ model_checkpoint ])\n",
        "\n",
        "\n",
        "# testGene = testGenerator( validDir )\n",
        "\n",
        "results = model.predict_generator( testGene,\n",
        "                                   30,\n",
        "                                   verbose=1 )"
      ],
      "execution_count": 25,
      "outputs": [
        {
          "output_type": "error",
          "ename": "TypeError",
          "evalue": "ignored",
          "traceback": [
            "\u001b[0;31m---------------------------------------------------------------------------\u001b[0m",
            "\u001b[0;31mTypeError\u001b[0m                                 Traceback (most recent call last)",
            "\u001b[0;32m<ipython-input-25-c254cc3fd7ff>\u001b[0m in \u001b[0;36m<module>\u001b[0;34m()\u001b[0m\n\u001b[1;32m     41\u001b[0m                     \u001b[0;31m# steps_per_epoch = 300,\u001b[0m\u001b[0;34m\u001b[0m\u001b[0;34m\u001b[0m\u001b[0;34m\u001b[0m\u001b[0m\n\u001b[1;32m     42\u001b[0m                     \u001b[0mepochs\u001b[0m\u001b[0;34m=\u001b[0m\u001b[0;36m1\u001b[0m\u001b[0;34m,\u001b[0m\u001b[0;34m\u001b[0m\u001b[0;34m\u001b[0m\u001b[0m\n\u001b[0;32m---> 43\u001b[0;31m                     callbacks=[ model_checkpoint ])\n\u001b[0m\u001b[1;32m     44\u001b[0m \u001b[0;34m\u001b[0m\u001b[0m\n\u001b[1;32m     45\u001b[0m \u001b[0;34m\u001b[0m\u001b[0m\n",
            "\u001b[0;32m/usr/local/lib/python3.6/dist-packages/tensorflow/python/util/deprecation.py\u001b[0m in \u001b[0;36mnew_func\u001b[0;34m(*args, **kwargs)\u001b[0m\n\u001b[1;32m    322\u001b[0m               \u001b[0;34m'in a future version'\u001b[0m \u001b[0;32mif\u001b[0m \u001b[0mdate\u001b[0m \u001b[0;32mis\u001b[0m \u001b[0;32mNone\u001b[0m \u001b[0;32melse\u001b[0m \u001b[0;34m(\u001b[0m\u001b[0;34m'after %s'\u001b[0m \u001b[0;34m%\u001b[0m \u001b[0mdate\u001b[0m\u001b[0;34m)\u001b[0m\u001b[0;34m,\u001b[0m\u001b[0;34m\u001b[0m\u001b[0;34m\u001b[0m\u001b[0m\n\u001b[1;32m    323\u001b[0m               instructions)\n\u001b[0;32m--> 324\u001b[0;31m       \u001b[0;32mreturn\u001b[0m \u001b[0mfunc\u001b[0m\u001b[0;34m(\u001b[0m\u001b[0;34m*\u001b[0m\u001b[0margs\u001b[0m\u001b[0;34m,\u001b[0m \u001b[0;34m**\u001b[0m\u001b[0mkwargs\u001b[0m\u001b[0;34m)\u001b[0m\u001b[0;34m\u001b[0m\u001b[0;34m\u001b[0m\u001b[0m\n\u001b[0m\u001b[1;32m    325\u001b[0m     return tf_decorator.make_decorator(\n\u001b[1;32m    326\u001b[0m         \u001b[0mfunc\u001b[0m\u001b[0;34m,\u001b[0m \u001b[0mnew_func\u001b[0m\u001b[0;34m,\u001b[0m \u001b[0;34m'deprecated'\u001b[0m\u001b[0;34m,\u001b[0m\u001b[0;34m\u001b[0m\u001b[0;34m\u001b[0m\u001b[0m\n",
            "\u001b[0;32m/usr/local/lib/python3.6/dist-packages/tensorflow/python/keras/engine/training.py\u001b[0m in \u001b[0;36mfit_generator\u001b[0;34m(self, generator, steps_per_epoch, epochs, verbose, callbacks, validation_data, validation_steps, validation_freq, class_weight, max_queue_size, workers, use_multiprocessing, shuffle, initial_epoch)\u001b[0m\n\u001b[1;32m   1827\u001b[0m         \u001b[0muse_multiprocessing\u001b[0m\u001b[0;34m=\u001b[0m\u001b[0muse_multiprocessing\u001b[0m\u001b[0;34m,\u001b[0m\u001b[0;34m\u001b[0m\u001b[0;34m\u001b[0m\u001b[0m\n\u001b[1;32m   1828\u001b[0m         \u001b[0mshuffle\u001b[0m\u001b[0;34m=\u001b[0m\u001b[0mshuffle\u001b[0m\u001b[0;34m,\u001b[0m\u001b[0;34m\u001b[0m\u001b[0;34m\u001b[0m\u001b[0m\n\u001b[0;32m-> 1829\u001b[0;31m         initial_epoch=initial_epoch)\n\u001b[0m\u001b[1;32m   1830\u001b[0m \u001b[0;34m\u001b[0m\u001b[0m\n\u001b[1;32m   1831\u001b[0m   @deprecation.deprecated(\n",
            "\u001b[0;32m/usr/local/lib/python3.6/dist-packages/tensorflow/python/keras/engine/training.py\u001b[0m in \u001b[0;36m_method_wrapper\u001b[0;34m(self, *args, **kwargs)\u001b[0m\n\u001b[1;32m    106\u001b[0m   \u001b[0;32mdef\u001b[0m \u001b[0m_method_wrapper\u001b[0m\u001b[0;34m(\u001b[0m\u001b[0mself\u001b[0m\u001b[0;34m,\u001b[0m \u001b[0;34m*\u001b[0m\u001b[0margs\u001b[0m\u001b[0;34m,\u001b[0m \u001b[0;34m**\u001b[0m\u001b[0mkwargs\u001b[0m\u001b[0;34m)\u001b[0m\u001b[0;34m:\u001b[0m\u001b[0;34m\u001b[0m\u001b[0;34m\u001b[0m\u001b[0m\n\u001b[1;32m    107\u001b[0m     \u001b[0;32mif\u001b[0m \u001b[0;32mnot\u001b[0m \u001b[0mself\u001b[0m\u001b[0;34m.\u001b[0m\u001b[0m_in_multi_worker_mode\u001b[0m\u001b[0;34m(\u001b[0m\u001b[0;34m)\u001b[0m\u001b[0;34m:\u001b[0m  \u001b[0;31m# pylint: disable=protected-access\u001b[0m\u001b[0;34m\u001b[0m\u001b[0;34m\u001b[0m\u001b[0m\n\u001b[0;32m--> 108\u001b[0;31m       \u001b[0;32mreturn\u001b[0m \u001b[0mmethod\u001b[0m\u001b[0;34m(\u001b[0m\u001b[0mself\u001b[0m\u001b[0;34m,\u001b[0m \u001b[0;34m*\u001b[0m\u001b[0margs\u001b[0m\u001b[0;34m,\u001b[0m \u001b[0;34m**\u001b[0m\u001b[0mkwargs\u001b[0m\u001b[0;34m)\u001b[0m\u001b[0;34m\u001b[0m\u001b[0;34m\u001b[0m\u001b[0m\n\u001b[0m\u001b[1;32m    109\u001b[0m \u001b[0;34m\u001b[0m\u001b[0m\n\u001b[1;32m    110\u001b[0m     \u001b[0;31m# Running inside `run_distribute_coordinator` already.\u001b[0m\u001b[0;34m\u001b[0m\u001b[0;34m\u001b[0m\u001b[0;34m\u001b[0m\u001b[0m\n",
            "\u001b[0;32m/usr/local/lib/python3.6/dist-packages/tensorflow/python/keras/engine/training.py\u001b[0m in \u001b[0;36mfit\u001b[0;34m(self, x, y, batch_size, epochs, verbose, callbacks, validation_split, validation_data, shuffle, class_weight, sample_weight, initial_epoch, steps_per_epoch, validation_steps, validation_batch_size, validation_freq, max_queue_size, workers, use_multiprocessing)\u001b[0m\n\u001b[1;32m   1061\u001b[0m           \u001b[0muse_multiprocessing\u001b[0m\u001b[0;34m=\u001b[0m\u001b[0muse_multiprocessing\u001b[0m\u001b[0;34m,\u001b[0m\u001b[0;34m\u001b[0m\u001b[0;34m\u001b[0m\u001b[0m\n\u001b[1;32m   1062\u001b[0m           \u001b[0mmodel\u001b[0m\u001b[0;34m=\u001b[0m\u001b[0mself\u001b[0m\u001b[0;34m,\u001b[0m\u001b[0;34m\u001b[0m\u001b[0;34m\u001b[0m\u001b[0m\n\u001b[0;32m-> 1063\u001b[0;31m           steps_per_execution=self._steps_per_execution)\n\u001b[0m\u001b[1;32m   1064\u001b[0m \u001b[0;34m\u001b[0m\u001b[0m\n\u001b[1;32m   1065\u001b[0m       \u001b[0;31m# Container that configures and calls `tf.keras.Callback`s.\u001b[0m\u001b[0;34m\u001b[0m\u001b[0;34m\u001b[0m\u001b[0;34m\u001b[0m\u001b[0m\n",
            "\u001b[0;32m/usr/local/lib/python3.6/dist-packages/tensorflow/python/keras/engine/data_adapter.py\u001b[0m in \u001b[0;36m__init__\u001b[0;34m(self, x, y, sample_weight, batch_size, steps_per_epoch, initial_epoch, epochs, shuffle, class_weight, max_queue_size, workers, use_multiprocessing, model, steps_per_execution)\u001b[0m\n\u001b[1;32m   1115\u001b[0m         \u001b[0muse_multiprocessing\u001b[0m\u001b[0;34m=\u001b[0m\u001b[0muse_multiprocessing\u001b[0m\u001b[0;34m,\u001b[0m\u001b[0;34m\u001b[0m\u001b[0;34m\u001b[0m\u001b[0m\n\u001b[1;32m   1116\u001b[0m         \u001b[0mdistribution_strategy\u001b[0m\u001b[0;34m=\u001b[0m\u001b[0mds_context\u001b[0m\u001b[0;34m.\u001b[0m\u001b[0mget_strategy\u001b[0m\u001b[0;34m(\u001b[0m\u001b[0;34m)\u001b[0m\u001b[0;34m,\u001b[0m\u001b[0;34m\u001b[0m\u001b[0;34m\u001b[0m\u001b[0m\n\u001b[0;32m-> 1117\u001b[0;31m         model=model)\n\u001b[0m\u001b[1;32m   1118\u001b[0m \u001b[0;34m\u001b[0m\u001b[0m\n\u001b[1;32m   1119\u001b[0m     \u001b[0mstrategy\u001b[0m \u001b[0;34m=\u001b[0m \u001b[0mds_context\u001b[0m\u001b[0;34m.\u001b[0m\u001b[0mget_strategy\u001b[0m\u001b[0;34m(\u001b[0m\u001b[0;34m)\u001b[0m\u001b[0;34m\u001b[0m\u001b[0;34m\u001b[0m\u001b[0m\n",
            "\u001b[0;32m/usr/local/lib/python3.6/dist-packages/tensorflow/python/keras/engine/data_adapter.py\u001b[0m in \u001b[0;36m__init__\u001b[0;34m(self, x, y, sample_weights, workers, use_multiprocessing, max_queue_size, model, **kwargs)\u001b[0m\n\u001b[1;32m    784\u001b[0m     \u001b[0;31m# Since we have to know the dtype of the python generator when we build the\u001b[0m\u001b[0;34m\u001b[0m\u001b[0;34m\u001b[0m\u001b[0;34m\u001b[0m\u001b[0m\n\u001b[1;32m    785\u001b[0m     \u001b[0;31m# dataset, we have to look at a batch to infer the structure.\u001b[0m\u001b[0;34m\u001b[0m\u001b[0;34m\u001b[0m\u001b[0;34m\u001b[0m\u001b[0m\n\u001b[0;32m--> 786\u001b[0;31m     \u001b[0mpeek\u001b[0m\u001b[0;34m,\u001b[0m \u001b[0mx\u001b[0m \u001b[0;34m=\u001b[0m \u001b[0mself\u001b[0m\u001b[0;34m.\u001b[0m\u001b[0m_peek_and_restore\u001b[0m\u001b[0;34m(\u001b[0m\u001b[0mx\u001b[0m\u001b[0;34m)\u001b[0m\u001b[0;34m\u001b[0m\u001b[0;34m\u001b[0m\u001b[0m\n\u001b[0m\u001b[1;32m    787\u001b[0m     \u001b[0mpeek\u001b[0m \u001b[0;34m=\u001b[0m \u001b[0mself\u001b[0m\u001b[0;34m.\u001b[0m\u001b[0m_standardize_batch\u001b[0m\u001b[0;34m(\u001b[0m\u001b[0mpeek\u001b[0m\u001b[0;34m)\u001b[0m\u001b[0;34m\u001b[0m\u001b[0;34m\u001b[0m\u001b[0m\n\u001b[1;32m    788\u001b[0m     \u001b[0mpeek\u001b[0m \u001b[0;34m=\u001b[0m \u001b[0m_process_tensorlike\u001b[0m\u001b[0;34m(\u001b[0m\u001b[0mpeek\u001b[0m\u001b[0;34m)\u001b[0m\u001b[0;34m\u001b[0m\u001b[0;34m\u001b[0m\u001b[0m\n",
            "\u001b[0;32m/usr/local/lib/python3.6/dist-packages/tensorflow/python/keras/engine/data_adapter.py\u001b[0m in \u001b[0;36m_peek_and_restore\u001b[0;34m(x)\u001b[0m\n\u001b[1;32m    841\u001b[0m   \u001b[0;34m@\u001b[0m\u001b[0mstaticmethod\u001b[0m\u001b[0;34m\u001b[0m\u001b[0;34m\u001b[0m\u001b[0m\n\u001b[1;32m    842\u001b[0m   \u001b[0;32mdef\u001b[0m \u001b[0m_peek_and_restore\u001b[0m\u001b[0;34m(\u001b[0m\u001b[0mx\u001b[0m\u001b[0;34m)\u001b[0m\u001b[0;34m:\u001b[0m\u001b[0;34m\u001b[0m\u001b[0;34m\u001b[0m\u001b[0m\n\u001b[0;32m--> 843\u001b[0;31m     \u001b[0mpeek\u001b[0m \u001b[0;34m=\u001b[0m \u001b[0mnext\u001b[0m\u001b[0;34m(\u001b[0m\u001b[0mx\u001b[0m\u001b[0;34m)\u001b[0m\u001b[0;34m\u001b[0m\u001b[0;34m\u001b[0m\u001b[0m\n\u001b[0m\u001b[1;32m    844\u001b[0m     \u001b[0;32mreturn\u001b[0m \u001b[0mpeek\u001b[0m\u001b[0;34m,\u001b[0m \u001b[0mitertools\u001b[0m\u001b[0;34m.\u001b[0m\u001b[0mchain\u001b[0m\u001b[0;34m(\u001b[0m\u001b[0;34m[\u001b[0m\u001b[0mpeek\u001b[0m\u001b[0;34m]\u001b[0m\u001b[0;34m,\u001b[0m \u001b[0mx\u001b[0m\u001b[0;34m)\u001b[0m\u001b[0;34m\u001b[0m\u001b[0;34m\u001b[0m\u001b[0m\n\u001b[1;32m    845\u001b[0m \u001b[0;34m\u001b[0m\u001b[0m\n",
            "\u001b[0;32m<ipython-input-19-ab539e2bf7e5>\u001b[0m in \u001b[0;36mtrainGenerator\u001b[0;34m(batch_size, train_path, image_folder, mask_folder, aug_dict, image_color_mode, mask_color_mode, image_save_prefix, mask_save_prefix, flag_multi_class, num_class, save_to_dir, target_size, seed)\u001b[0m\n\u001b[1;32m     33\u001b[0m     \u001b[0mmask_datagen\u001b[0m \u001b[0;34m=\u001b[0m \u001b[0mImageDataGenerator\u001b[0m\u001b[0;34m(\u001b[0m \u001b[0;34m**\u001b[0m\u001b[0maug_dict\u001b[0m \u001b[0;34m)\u001b[0m\u001b[0;34m\u001b[0m\u001b[0;34m\u001b[0m\u001b[0m\n\u001b[1;32m     34\u001b[0m \u001b[0;34m\u001b[0m\u001b[0m\n\u001b[0;32m---> 35\u001b[0;31m     \u001b[0mImageDataGenerator\u001b[0m\u001b[0;34m.\u001b[0m\u001b[0mflow_from_directory\u001b[0m\u001b[0;34m(\u001b[0m \u001b[0;34m)\u001b[0m\u001b[0;34m\u001b[0m\u001b[0;34m\u001b[0m\u001b[0m\n\u001b[0m\u001b[1;32m     36\u001b[0m     image_generator = image_datagen.flow_from_directory(\n\u001b[1;32m     37\u001b[0m         \u001b[0mtrain_path\u001b[0m\u001b[0;34m,\u001b[0m\u001b[0;34m\u001b[0m\u001b[0;34m\u001b[0m\u001b[0m\n",
            "\u001b[0;31mTypeError\u001b[0m: flow_from_directory() missing 2 required positional arguments: 'self' and 'directory'"
          ]
        }
      ]
    },
    {
      "cell_type": "markdown",
      "metadata": {
        "id": "4uZ5sjEjmaLJ",
        "colab_type": "text"
      },
      "source": [
        "## Save Model, Save Predictor"
      ]
    },
    {
      "cell_type": "code",
      "metadata": {
        "id": "M9nfWu0umfQu",
        "colab_type": "code",
        "colab": {
          "base_uri": "https://localhost:8080/",
          "height": 1000
        },
        "outputId": "0db8d198-6e45-41c6-cf11-85bd803a5099"
      },
      "source": [
        "model.summary() \n",
        "\n",
        "# Save your results HERE\n",
        "saveResult( validDir,\n",
        "            results )"
      ],
      "execution_count": 26,
      "outputs": [
        {
          "output_type": "stream",
          "text": [
            "Model: \"functional_5\"\n",
            "__________________________________________________________________________________________________\n",
            "Layer (type)                    Output Shape         Param #     Connected to                     \n",
            "==================================================================================================\n",
            "input_3 (InputLayer)            [(None, 256, 256, 3) 0                                            \n",
            "__________________________________________________________________________________________________\n",
            "conv2d_48 (Conv2D)              (None, 256, 256, 64) 1792        input_3[0][0]                    \n",
            "__________________________________________________________________________________________________\n",
            "conv2d_49 (Conv2D)              (None, 256, 256, 64) 36928       conv2d_48[0][0]                  \n",
            "__________________________________________________________________________________________________\n",
            "max_pooling2d_8 (MaxPooling2D)  (None, 128, 128, 64) 0           conv2d_49[0][0]                  \n",
            "__________________________________________________________________________________________________\n",
            "conv2d_50 (Conv2D)              (None, 128, 128, 128 73856       max_pooling2d_8[0][0]            \n",
            "__________________________________________________________________________________________________\n",
            "conv2d_51 (Conv2D)              (None, 128, 128, 128 147584      conv2d_50[0][0]                  \n",
            "__________________________________________________________________________________________________\n",
            "max_pooling2d_9 (MaxPooling2D)  (None, 64, 64, 128)  0           conv2d_51[0][0]                  \n",
            "__________________________________________________________________________________________________\n",
            "conv2d_52 (Conv2D)              (None, 64, 64, 256)  295168      max_pooling2d_9[0][0]            \n",
            "__________________________________________________________________________________________________\n",
            "conv2d_53 (Conv2D)              (None, 64, 64, 256)  590080      conv2d_52[0][0]                  \n",
            "__________________________________________________________________________________________________\n",
            "max_pooling2d_10 (MaxPooling2D) (None, 32, 32, 256)  0           conv2d_53[0][0]                  \n",
            "__________________________________________________________________________________________________\n",
            "conv2d_54 (Conv2D)              (None, 32, 32, 512)  1180160     max_pooling2d_10[0][0]           \n",
            "__________________________________________________________________________________________________\n",
            "conv2d_55 (Conv2D)              (None, 32, 32, 512)  2359808     conv2d_54[0][0]                  \n",
            "__________________________________________________________________________________________________\n",
            "dropout_4 (Dropout)             (None, 32, 32, 512)  0           conv2d_55[0][0]                  \n",
            "__________________________________________________________________________________________________\n",
            "max_pooling2d_11 (MaxPooling2D) (None, 16, 16, 512)  0           dropout_4[0][0]                  \n",
            "__________________________________________________________________________________________________\n",
            "conv2d_56 (Conv2D)              (None, 16, 16, 1024) 4719616     max_pooling2d_11[0][0]           \n",
            "__________________________________________________________________________________________________\n",
            "conv2d_57 (Conv2D)              (None, 16, 16, 1024) 9438208     conv2d_56[0][0]                  \n",
            "__________________________________________________________________________________________________\n",
            "dropout_5 (Dropout)             (None, 16, 16, 1024) 0           conv2d_57[0][0]                  \n",
            "__________________________________________________________________________________________________\n",
            "up_sampling2d_8 (UpSampling2D)  (None, 32, 32, 1024) 0           dropout_5[0][0]                  \n",
            "__________________________________________________________________________________________________\n",
            "conv2d_58 (Conv2D)              (None, 32, 32, 512)  2097664     up_sampling2d_8[0][0]            \n",
            "__________________________________________________________________________________________________\n",
            "concatenate_8 (Concatenate)     (None, 32, 32, 1024) 0           dropout_4[0][0]                  \n",
            "                                                                 conv2d_58[0][0]                  \n",
            "__________________________________________________________________________________________________\n",
            "conv2d_59 (Conv2D)              (None, 32, 32, 512)  4719104     concatenate_8[0][0]              \n",
            "__________________________________________________________________________________________________\n",
            "conv2d_60 (Conv2D)              (None, 32, 32, 512)  2359808     conv2d_59[0][0]                  \n",
            "__________________________________________________________________________________________________\n",
            "up_sampling2d_9 (UpSampling2D)  (None, 64, 64, 512)  0           conv2d_60[0][0]                  \n",
            "__________________________________________________________________________________________________\n",
            "conv2d_61 (Conv2D)              (None, 64, 64, 256)  524544      up_sampling2d_9[0][0]            \n",
            "__________________________________________________________________________________________________\n",
            "concatenate_9 (Concatenate)     (None, 64, 64, 512)  0           conv2d_53[0][0]                  \n",
            "                                                                 conv2d_61[0][0]                  \n",
            "__________________________________________________________________________________________________\n",
            "conv2d_62 (Conv2D)              (None, 64, 64, 256)  1179904     concatenate_9[0][0]              \n",
            "__________________________________________________________________________________________________\n",
            "conv2d_63 (Conv2D)              (None, 64, 64, 256)  590080      conv2d_62[0][0]                  \n",
            "__________________________________________________________________________________________________\n",
            "up_sampling2d_10 (UpSampling2D) (None, 128, 128, 256 0           conv2d_63[0][0]                  \n",
            "__________________________________________________________________________________________________\n",
            "conv2d_64 (Conv2D)              (None, 128, 128, 128 131200      up_sampling2d_10[0][0]           \n",
            "__________________________________________________________________________________________________\n",
            "concatenate_10 (Concatenate)    (None, 128, 128, 256 0           conv2d_51[0][0]                  \n",
            "                                                                 conv2d_64[0][0]                  \n",
            "__________________________________________________________________________________________________\n",
            "conv2d_65 (Conv2D)              (None, 128, 128, 128 295040      concatenate_10[0][0]             \n",
            "__________________________________________________________________________________________________\n",
            "conv2d_66 (Conv2D)              (None, 128, 128, 128 147584      conv2d_65[0][0]                  \n",
            "__________________________________________________________________________________________________\n",
            "up_sampling2d_11 (UpSampling2D) (None, 256, 256, 128 0           conv2d_66[0][0]                  \n",
            "__________________________________________________________________________________________________\n",
            "conv2d_67 (Conv2D)              (None, 256, 256, 64) 32832       up_sampling2d_11[0][0]           \n",
            "__________________________________________________________________________________________________\n",
            "concatenate_11 (Concatenate)    (None, 256, 256, 128 0           conv2d_49[0][0]                  \n",
            "                                                                 conv2d_67[0][0]                  \n",
            "__________________________________________________________________________________________________\n",
            "conv2d_68 (Conv2D)              (None, 256, 256, 64) 73792       concatenate_11[0][0]             \n",
            "__________________________________________________________________________________________________\n",
            "conv2d_69 (Conv2D)              (None, 256, 256, 64) 36928       conv2d_68[0][0]                  \n",
            "__________________________________________________________________________________________________\n",
            "conv2d_70 (Conv2D)              (None, 256, 256, 2)  1154        conv2d_69[0][0]                  \n",
            "__________________________________________________________________________________________________\n",
            "conv2d_71 (Conv2D)              (None, 256, 256, 1)  3           conv2d_70[0][0]                  \n",
            "==================================================================================================\n",
            "Total params: 31,032,837\n",
            "Trainable params: 31,032,837\n",
            "Non-trainable params: 0\n",
            "__________________________________________________________________________________________________\n"
          ],
          "name": "stdout"
        },
        {
          "output_type": "error",
          "ename": "NameError",
          "evalue": "ignored",
          "traceback": [
            "\u001b[0;31m---------------------------------------------------------------------------\u001b[0m",
            "\u001b[0;31mNameError\u001b[0m                                 Traceback (most recent call last)",
            "\u001b[0;32m<ipython-input-26-8a52f3073073>\u001b[0m in \u001b[0;36m<module>\u001b[0;34m()\u001b[0m\n\u001b[1;32m      3\u001b[0m \u001b[0;31m# Save your results HERE\u001b[0m\u001b[0;34m\u001b[0m\u001b[0;34m\u001b[0m\u001b[0;34m\u001b[0m\u001b[0m\n\u001b[1;32m      4\u001b[0m saveResult( validDir,\n\u001b[0;32m----> 5\u001b[0;31m             results )\n\u001b[0m",
            "\u001b[0;31mNameError\u001b[0m: name 'results' is not defined"
          ]
        }
      ]
    },
    {
      "cell_type": "code",
      "metadata": {
        "id": "lCsDXE120Udd",
        "colab_type": "code",
        "colab": {}
      },
      "source": [
        ""
      ],
      "execution_count": null,
      "outputs": []
    }
  ]
}